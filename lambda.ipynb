{
 "cells": [
  {
   "cell_type": "code",
   "execution_count": 1,
   "metadata": {},
   "outputs": [
    {
     "ename": "NoRegionError",
     "evalue": "You must specify a region.",
     "output_type": "error",
     "traceback": [
      "\u001b[1;31m---------------------------------------------------------------------------\u001b[0m",
      "\u001b[1;31mNoRegionError\u001b[0m                             Traceback (most recent call last)",
      "\u001b[1;32m<ipython-input-1-40f01b80a124>\u001b[0m in \u001b[0;36m<module>\u001b[1;34m()\u001b[0m\n\u001b[0;32m      5\u001b[0m \u001b[1;33m\u001b[0m\u001b[0m\n\u001b[0;32m      6\u001b[0m \u001b[1;31m#initialization\u001b[0m\u001b[1;33m\u001b[0m\u001b[1;33m\u001b[0m\u001b[0m\n\u001b[1;32m----> 7\u001b[1;33m \u001b[0mtable\u001b[0m \u001b[1;33m=\u001b[0m \u001b[0mboto3\u001b[0m\u001b[1;33m.\u001b[0m\u001b[0mresource\u001b[0m\u001b[1;33m(\u001b[0m\u001b[1;34m'dynamodb'\u001b[0m\u001b[1;33m)\u001b[0m\u001b[1;33m.\u001b[0m\u001b[0mTable\u001b[0m\u001b[1;33m(\u001b[0m\u001b[1;34m'chat'\u001b[0m\u001b[1;33m)\u001b[0m\u001b[1;33m\u001b[0m\u001b[0m\n\u001b[0m\u001b[0;32m      8\u001b[0m \u001b[1;33m\u001b[0m\u001b[0m\n\u001b[0;32m      9\u001b[0m \u001b[1;33m\u001b[0m\u001b[0m\n",
      "\u001b[1;32m~\\Anaconda3\\lib\\site-packages\\boto3\\__init__.py\u001b[0m in \u001b[0;36mresource\u001b[1;34m(*args, **kwargs)\u001b[0m\n\u001b[0;32m     98\u001b[0m     \u001b[0mSee\u001b[0m \u001b[1;33m:\u001b[0m\u001b[0mpy\u001b[0m\u001b[1;33m:\u001b[0m\u001b[0mmeth\u001b[0m\u001b[1;33m:\u001b[0m\u001b[0;31m`\u001b[0m\u001b[0mboto3\u001b[0m\u001b[1;33m.\u001b[0m\u001b[0msession\u001b[0m\u001b[1;33m.\u001b[0m\u001b[0mSession\u001b[0m\u001b[1;33m.\u001b[0m\u001b[0mresource\u001b[0m\u001b[0;31m`\u001b[0m\u001b[1;33m.\u001b[0m\u001b[1;33m\u001b[0m\u001b[0m\n\u001b[0;32m     99\u001b[0m     \"\"\"\n\u001b[1;32m--> 100\u001b[1;33m     \u001b[1;32mreturn\u001b[0m \u001b[0m_get_default_session\u001b[0m\u001b[1;33m(\u001b[0m\u001b[1;33m)\u001b[0m\u001b[1;33m.\u001b[0m\u001b[0mresource\u001b[0m\u001b[1;33m(\u001b[0m\u001b[1;33m*\u001b[0m\u001b[0margs\u001b[0m\u001b[1;33m,\u001b[0m \u001b[1;33m**\u001b[0m\u001b[0mkwargs\u001b[0m\u001b[1;33m)\u001b[0m\u001b[1;33m\u001b[0m\u001b[0m\n\u001b[0m\u001b[0;32m    101\u001b[0m \u001b[1;33m\u001b[0m\u001b[0m\n\u001b[0;32m    102\u001b[0m \u001b[1;33m\u001b[0m\u001b[0m\n",
      "\u001b[1;32m~\\Anaconda3\\lib\\site-packages\\boto3\\session.py\u001b[0m in \u001b[0;36mresource\u001b[1;34m(self, service_name, region_name, api_version, use_ssl, verify, endpoint_url, aws_access_key_id, aws_secret_access_key, aws_session_token, config)\u001b[0m\n\u001b[0;32m    387\u001b[0m             \u001b[0maws_access_key_id\u001b[0m\u001b[1;33m=\u001b[0m\u001b[0maws_access_key_id\u001b[0m\u001b[1;33m,\u001b[0m\u001b[1;33m\u001b[0m\u001b[0m\n\u001b[0;32m    388\u001b[0m             \u001b[0maws_secret_access_key\u001b[0m\u001b[1;33m=\u001b[0m\u001b[0maws_secret_access_key\u001b[0m\u001b[1;33m,\u001b[0m\u001b[1;33m\u001b[0m\u001b[0m\n\u001b[1;32m--> 389\u001b[1;33m             aws_session_token=aws_session_token, config=config)\n\u001b[0m\u001b[0;32m    390\u001b[0m         \u001b[0mservice_model\u001b[0m \u001b[1;33m=\u001b[0m \u001b[0mclient\u001b[0m\u001b[1;33m.\u001b[0m\u001b[0mmeta\u001b[0m\u001b[1;33m.\u001b[0m\u001b[0mservice_model\u001b[0m\u001b[1;33m\u001b[0m\u001b[0m\n\u001b[0;32m    391\u001b[0m \u001b[1;33m\u001b[0m\u001b[0m\n",
      "\u001b[1;32m~\\Anaconda3\\lib\\site-packages\\boto3\\session.py\u001b[0m in \u001b[0;36mclient\u001b[1;34m(self, service_name, region_name, api_version, use_ssl, verify, endpoint_url, aws_access_key_id, aws_secret_access_key, aws_session_token, config)\u001b[0m\n\u001b[0;32m    261\u001b[0m             \u001b[0maws_access_key_id\u001b[0m\u001b[1;33m=\u001b[0m\u001b[0maws_access_key_id\u001b[0m\u001b[1;33m,\u001b[0m\u001b[1;33m\u001b[0m\u001b[0m\n\u001b[0;32m    262\u001b[0m             \u001b[0maws_secret_access_key\u001b[0m\u001b[1;33m=\u001b[0m\u001b[0maws_secret_access_key\u001b[0m\u001b[1;33m,\u001b[0m\u001b[1;33m\u001b[0m\u001b[0m\n\u001b[1;32m--> 263\u001b[1;33m             aws_session_token=aws_session_token, config=config)\n\u001b[0m\u001b[0;32m    264\u001b[0m \u001b[1;33m\u001b[0m\u001b[0m\n\u001b[0;32m    265\u001b[0m     def resource(self, service_name, region_name=None, api_version=None,\n",
      "\u001b[1;32m~\\Anaconda3\\lib\\site-packages\\botocore\\session.py\u001b[0m in \u001b[0;36mcreate_client\u001b[1;34m(self, service_name, region_name, api_version, use_ssl, verify, endpoint_url, aws_access_key_id, aws_secret_access_key, aws_session_token, config)\u001b[0m\n\u001b[0;32m    836\u001b[0m             \u001b[0mis_secure\u001b[0m\u001b[1;33m=\u001b[0m\u001b[0muse_ssl\u001b[0m\u001b[1;33m,\u001b[0m \u001b[0mendpoint_url\u001b[0m\u001b[1;33m=\u001b[0m\u001b[0mendpoint_url\u001b[0m\u001b[1;33m,\u001b[0m \u001b[0mverify\u001b[0m\u001b[1;33m=\u001b[0m\u001b[0mverify\u001b[0m\u001b[1;33m,\u001b[0m\u001b[1;33m\u001b[0m\u001b[0m\n\u001b[0;32m    837\u001b[0m             \u001b[0mcredentials\u001b[0m\u001b[1;33m=\u001b[0m\u001b[0mcredentials\u001b[0m\u001b[1;33m,\u001b[0m \u001b[0mscoped_config\u001b[0m\u001b[1;33m=\u001b[0m\u001b[0mself\u001b[0m\u001b[1;33m.\u001b[0m\u001b[0mget_scoped_config\u001b[0m\u001b[1;33m(\u001b[0m\u001b[1;33m)\u001b[0m\u001b[1;33m,\u001b[0m\u001b[1;33m\u001b[0m\u001b[0m\n\u001b[1;32m--> 838\u001b[1;33m             client_config=config, api_version=api_version)\n\u001b[0m\u001b[0;32m    839\u001b[0m         \u001b[0mmonitor\u001b[0m \u001b[1;33m=\u001b[0m \u001b[0mself\u001b[0m\u001b[1;33m.\u001b[0m\u001b[0m_get_internal_component\u001b[0m\u001b[1;33m(\u001b[0m\u001b[1;34m'monitor'\u001b[0m\u001b[1;33m)\u001b[0m\u001b[1;33m\u001b[0m\u001b[0m\n\u001b[0;32m    840\u001b[0m         \u001b[1;32mif\u001b[0m \u001b[0mmonitor\u001b[0m \u001b[1;32mis\u001b[0m \u001b[1;32mnot\u001b[0m \u001b[1;32mNone\u001b[0m\u001b[1;33m:\u001b[0m\u001b[1;33m\u001b[0m\u001b[0m\n",
      "\u001b[1;32m~\\Anaconda3\\lib\\site-packages\\botocore\\client.py\u001b[0m in \u001b[0;36mcreate_client\u001b[1;34m(self, service_name, region_name, is_secure, endpoint_url, verify, credentials, scoped_config, api_version, client_config)\u001b[0m\n\u001b[0;32m     84\u001b[0m         client_args = self._get_client_args(\n\u001b[0;32m     85\u001b[0m             \u001b[0mservice_model\u001b[0m\u001b[1;33m,\u001b[0m \u001b[0mregion_name\u001b[0m\u001b[1;33m,\u001b[0m \u001b[0mis_secure\u001b[0m\u001b[1;33m,\u001b[0m \u001b[0mendpoint_url\u001b[0m\u001b[1;33m,\u001b[0m\u001b[1;33m\u001b[0m\u001b[0m\n\u001b[1;32m---> 86\u001b[1;33m             verify, credentials, scoped_config, client_config, endpoint_bridge)\n\u001b[0m\u001b[0;32m     87\u001b[0m         \u001b[0mservice_client\u001b[0m \u001b[1;33m=\u001b[0m \u001b[0mcls\u001b[0m\u001b[1;33m(\u001b[0m\u001b[1;33m**\u001b[0m\u001b[0mclient_args\u001b[0m\u001b[1;33m)\u001b[0m\u001b[1;33m\u001b[0m\u001b[0m\n\u001b[0;32m     88\u001b[0m         \u001b[0mself\u001b[0m\u001b[1;33m.\u001b[0m\u001b[0m_register_retries\u001b[0m\u001b[1;33m(\u001b[0m\u001b[0mservice_client\u001b[0m\u001b[1;33m)\u001b[0m\u001b[1;33m\u001b[0m\u001b[0m\n",
      "\u001b[1;32m~\\Anaconda3\\lib\\site-packages\\botocore\\client.py\u001b[0m in \u001b[0;36m_get_client_args\u001b[1;34m(self, service_model, region_name, is_secure, endpoint_url, verify, credentials, scoped_config, client_config, endpoint_bridge)\u001b[0m\n\u001b[0;32m    326\u001b[0m         return args_creator.get_client_args(\n\u001b[0;32m    327\u001b[0m             \u001b[0mservice_model\u001b[0m\u001b[1;33m,\u001b[0m \u001b[0mregion_name\u001b[0m\u001b[1;33m,\u001b[0m \u001b[0mis_secure\u001b[0m\u001b[1;33m,\u001b[0m \u001b[0mendpoint_url\u001b[0m\u001b[1;33m,\u001b[0m\u001b[1;33m\u001b[0m\u001b[0m\n\u001b[1;32m--> 328\u001b[1;33m             verify, credentials, scoped_config, client_config, endpoint_bridge)\n\u001b[0m\u001b[0;32m    329\u001b[0m \u001b[1;33m\u001b[0m\u001b[0m\n\u001b[0;32m    330\u001b[0m     \u001b[1;32mdef\u001b[0m \u001b[0m_create_methods\u001b[0m\u001b[1;33m(\u001b[0m\u001b[0mself\u001b[0m\u001b[1;33m,\u001b[0m \u001b[0mservice_model\u001b[0m\u001b[1;33m)\u001b[0m\u001b[1;33m:\u001b[0m\u001b[1;33m\u001b[0m\u001b[0m\n",
      "\u001b[1;32m~\\Anaconda3\\lib\\site-packages\\botocore\\args.py\u001b[0m in \u001b[0;36mget_client_args\u001b[1;34m(self, service_model, region_name, is_secure, endpoint_url, verify, credentials, scoped_config, client_config, endpoint_bridge)\u001b[0m\n\u001b[0;32m     45\u001b[0m         final_args = self.compute_client_args(\n\u001b[0;32m     46\u001b[0m             \u001b[0mservice_model\u001b[0m\u001b[1;33m,\u001b[0m \u001b[0mclient_config\u001b[0m\u001b[1;33m,\u001b[0m \u001b[0mendpoint_bridge\u001b[0m\u001b[1;33m,\u001b[0m \u001b[0mregion_name\u001b[0m\u001b[1;33m,\u001b[0m\u001b[1;33m\u001b[0m\u001b[0m\n\u001b[1;32m---> 47\u001b[1;33m             endpoint_url, is_secure, scoped_config)\n\u001b[0m\u001b[0;32m     48\u001b[0m \u001b[1;33m\u001b[0m\u001b[0m\n\u001b[0;32m     49\u001b[0m         \u001b[0mservice_name\u001b[0m \u001b[1;33m=\u001b[0m \u001b[0mfinal_args\u001b[0m\u001b[1;33m[\u001b[0m\u001b[1;34m'service_name'\u001b[0m\u001b[1;33m]\u001b[0m\u001b[1;33m\u001b[0m\u001b[0m\n",
      "\u001b[1;32m~\\Anaconda3\\lib\\site-packages\\botocore\\args.py\u001b[0m in \u001b[0;36mcompute_client_args\u001b[1;34m(self, service_model, client_config, endpoint_bridge, region_name, endpoint_url, is_secure, scoped_config)\u001b[0m\n\u001b[0;32m    115\u001b[0m \u001b[1;33m\u001b[0m\u001b[0m\n\u001b[0;32m    116\u001b[0m         endpoint_config = endpoint_bridge.resolve(\n\u001b[1;32m--> 117\u001b[1;33m             service_name, region_name, endpoint_url, is_secure)\n\u001b[0m\u001b[0;32m    118\u001b[0m \u001b[1;33m\u001b[0m\u001b[0m\n\u001b[0;32m    119\u001b[0m         \u001b[1;31m# Override the user agent if specified in the client config.\u001b[0m\u001b[1;33m\u001b[0m\u001b[1;33m\u001b[0m\u001b[0m\n",
      "\u001b[1;32m~\\Anaconda3\\lib\\site-packages\\botocore\\client.py\u001b[0m in \u001b[0;36mresolve\u001b[1;34m(self, service_name, region_name, endpoint_url, is_secure)\u001b[0m\n\u001b[0;32m    400\u001b[0m         \u001b[0mregion_name\u001b[0m \u001b[1;33m=\u001b[0m \u001b[0mself\u001b[0m\u001b[1;33m.\u001b[0m\u001b[0m_check_default_region\u001b[0m\u001b[1;33m(\u001b[0m\u001b[0mservice_name\u001b[0m\u001b[1;33m,\u001b[0m \u001b[0mregion_name\u001b[0m\u001b[1;33m)\u001b[0m\u001b[1;33m\u001b[0m\u001b[0m\n\u001b[0;32m    401\u001b[0m         resolved = self.endpoint_resolver.construct_endpoint(\n\u001b[1;32m--> 402\u001b[1;33m             service_name, region_name)\n\u001b[0m\u001b[0;32m    403\u001b[0m         \u001b[1;32mif\u001b[0m \u001b[0mresolved\u001b[0m\u001b[1;33m:\u001b[0m\u001b[1;33m\u001b[0m\u001b[0m\n\u001b[0;32m    404\u001b[0m             return self._create_endpoint(\n",
      "\u001b[1;32m~\\Anaconda3\\lib\\site-packages\\botocore\\regions.py\u001b[0m in \u001b[0;36mconstruct_endpoint\u001b[1;34m(self, service_name, region_name)\u001b[0m\n\u001b[0;32m    120\u001b[0m         \u001b[1;32mfor\u001b[0m \u001b[0mpartition\u001b[0m \u001b[1;32min\u001b[0m \u001b[0mself\u001b[0m\u001b[1;33m.\u001b[0m\u001b[0m_endpoint_data\u001b[0m\u001b[1;33m[\u001b[0m\u001b[1;34m'partitions'\u001b[0m\u001b[1;33m]\u001b[0m\u001b[1;33m:\u001b[0m\u001b[1;33m\u001b[0m\u001b[0m\n\u001b[0;32m    121\u001b[0m             result = self._endpoint_for_partition(\n\u001b[1;32m--> 122\u001b[1;33m                 partition, service_name, region_name)\n\u001b[0m\u001b[0;32m    123\u001b[0m             \u001b[1;32mif\u001b[0m \u001b[0mresult\u001b[0m\u001b[1;33m:\u001b[0m\u001b[1;33m\u001b[0m\u001b[0m\n\u001b[0;32m    124\u001b[0m                 \u001b[1;32mreturn\u001b[0m \u001b[0mresult\u001b[0m\u001b[1;33m\u001b[0m\u001b[0m\n",
      "\u001b[1;32m~\\Anaconda3\\lib\\site-packages\\botocore\\regions.py\u001b[0m in \u001b[0;36m_endpoint_for_partition\u001b[1;34m(self, partition, service_name, region_name)\u001b[0m\n\u001b[0;32m    133\u001b[0m                 \u001b[0mregion_name\u001b[0m \u001b[1;33m=\u001b[0m \u001b[0mservice_data\u001b[0m\u001b[1;33m[\u001b[0m\u001b[1;34m'partitionEndpoint'\u001b[0m\u001b[1;33m]\u001b[0m\u001b[1;33m\u001b[0m\u001b[0m\n\u001b[0;32m    134\u001b[0m             \u001b[1;32melse\u001b[0m\u001b[1;33m:\u001b[0m\u001b[1;33m\u001b[0m\u001b[0m\n\u001b[1;32m--> 135\u001b[1;33m                 \u001b[1;32mraise\u001b[0m \u001b[0mNoRegionError\u001b[0m\u001b[1;33m(\u001b[0m\u001b[1;33m)\u001b[0m\u001b[1;33m\u001b[0m\u001b[0m\n\u001b[0m\u001b[0;32m    136\u001b[0m         \u001b[1;31m# Attempt to resolve the exact region for this partition.\u001b[0m\u001b[1;33m\u001b[0m\u001b[1;33m\u001b[0m\u001b[0m\n\u001b[0;32m    137\u001b[0m         \u001b[1;32mif\u001b[0m \u001b[0mregion_name\u001b[0m \u001b[1;32min\u001b[0m \u001b[0mservice_data\u001b[0m\u001b[1;33m[\u001b[0m\u001b[1;34m'endpoints'\u001b[0m\u001b[1;33m]\u001b[0m\u001b[1;33m:\u001b[0m\u001b[1;33m\u001b[0m\u001b[0m\n",
      "\u001b[1;31mNoRegionError\u001b[0m: You must specify a region."
     ]
    }
   ],
   "source": [
    "import boto3\n",
    "import json, decimal\n",
    "from boto3.dynamodb.conditions import Key\n",
    "from botocore.exceptions import ClientError\n",
    "\n",
    "#initialization\n",
    "table = boto3.resource('dynamodb').Table('chat')\n",
    "\n",
    "\n",
    "class DecimalEncoder(json.JSONEncoder):\n",
    "    def default(self, o):\n",
    "        if isinstance(o, decimal.Decimal):\n",
    "            return float(o)\n",
    "        return super(DecimalEncoder, self).default(o)\n",
    "        \n",
    "        \n",
    "\n",
    "def lambda_handler(event, context):\n",
    "    # method = event['httpMethod']\n",
    "    # print(method)\n",
    "    # if method == ['GET']:\n",
    "    print(event)\n",
    "    try:\n",
    "        key = {'chat_id': (event['queryStringParameters']['id'])}\n",
    "        print(key)\n",
    "        response = table.get_item(Key=key)\n",
    "        if \"Item\" not in response:\n",
    "            return False\n",
    "        return {\n",
    "            \"statusCode\": 200,\n",
    "            \"headers\": {\n",
    "                'Access-Control-Allow-Origin':  '*',\n",
    "                'Content-Type': 'application/json'\n",
    "            },\n",
    "            \"body\": json.dumps(response[\"Item\"], cls=DecimalEncoder),\n",
    "        }\n",
    "    except ClientError as e:\n",
    "            return  {\n",
    "                \"statusCode\": \"400\",\n",
    "                \"headers\": {\n",
    "                    'Access-Control-Allow-Origin':  '*',\n",
    "                    'Content-Type': 'application/json'\n",
    "                },\n",
    "                \"message\": json.dumps(e.response['Error']['Message'])\n",
    "\n",
    "                \n",
    "            }\n"
   ]
  },
  {
   "cell_type": "code",
   "execution_count": null,
   "metadata": {},
   "outputs": [],
   "source": []
  }
 ],
 "metadata": {
  "kernelspec": {
   "display_name": "Python 3",
   "language": "python",
   "name": "python3"
  },
  "language_info": {
   "codemirror_mode": {
    "name": "ipython",
    "version": 3
   },
   "file_extension": ".py",
   "mimetype": "text/x-python",
   "name": "python",
   "nbconvert_exporter": "python",
   "pygments_lexer": "ipython3",
   "version": "3.7.0"
  }
 },
 "nbformat": 4,
 "nbformat_minor": 2
}
